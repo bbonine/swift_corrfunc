{
 "cells": [
  {
   "cell_type": "code",
   "execution_count": 9,
   "metadata": {},
   "outputs": [
    {
     "name": "stdout",
     "output_type": "stream",
     "text": [
      "Populating the interactive namespace from numpy and matplotlib\n"
     ]
    },
    {
     "name": "stderr",
     "output_type": "stream",
     "text": [
      "/Users/bbonine/anaconda3/lib/python3.7/site-packages/IPython/core/magics/pylab.py:160: UserWarning: pylab import has clobbered these variables: ['figsize']\n",
      "`%matplotlib` prevents importing * from pylab and numpy\n",
      "  \"\\n`%matplotlib` prevents importing * from pylab and numpy\"\n"
     ]
    }
   ],
   "source": [
    "# Import necessary packages\n",
    "from astroML.correlation import two_point_angular\n",
    "\n",
    "\n",
    "%pylab inline\n",
    "import numpy as np\n",
    "import matplotlib.pyplot as plt\n",
    "from astropy.io import fits\n",
    "from scipy.interpolate import InterpolatedUnivariateSpline\n",
    "\n",
    "\n",
    "\n",
    "\n",
    "\n",
    "\n",
    "fontsize = 8\n",
    "figsize = (3,3)\n",
    "dpi = 250\n",
    "\n",
    "\n",
    "# Configure parameters\n",
    "plt.style.use('default')\n",
    "plt.rcParams.update({'font.size': fontsize, 'figure.figsize': figsize, 'figure.dpi':dpi})\n",
    "\n",
    "\n",
    "# Default tick label size\n",
    "plt.rcParams['xtick.labelsize'] = fontsize\n",
    "plt.rcParams['ytick.labelsize'] = fontsize\n",
    "plt.rcParams['text.usetex'] = True\n",
    "plt.rcParams['xtick.direction'] = 'in'\n",
    "plt.rcParams['ytick.direction'] = 'in'\n",
    "plt.rcParams['xtick.major.size'] = 8\n",
    "plt.rcParams['ytick.major.size'] = 8\n",
    "plt.rcParams['xtick.major.width'] = 2\n",
    "plt.rcParams['ytick.major.width'] = 2\n",
    "\n",
    "plt.rcParams['xtick.top'] = True\n",
    "plt.rcParams['ytick.right'] = True\n",
    "plt.rcParams['axes.linewidth'] = 2\n"
   ]
  },
  {
   "cell_type": "code",
   "execution_count": 15,
   "metadata": {},
   "outputs": [],
   "source": [
    "# Read in data \n",
    "\n",
    "# Read in AGN table:\n",
    "path = '/Users/bbonine/ou/research/corr_func/data/'\n",
    "# Remote version: cat = \"/home/bonine/donnajean/research/agn_corr/data/agntable_total.txt\"\n",
    "cat = path + 'agntable_total.txt'\n",
    "field = np.loadtxt(cat, dtype = str,delimiter = None, skiprows = 1, usecols=(15) , unpack = True)\n",
    "#Get rid of any duplicates:\n",
    "field_list = np.unique(field)\n",
    "x,y = np.loadtxt(cat, delimiter = None, skiprows = 1, usecols=(16,17) , unpack = True)\n"
   ]
  },
  {
   "cell_type": "code",
   "execution_count": 13,
   "metadata": {},
   "outputs": [],
   "source": [
    "# Read in the flux limit file: \n",
    "#lim = '/home/bonine/donnajean/research/agn_corr/data/fluxlimit.txt'\n",
    "lim = path + 'fluxlimit.txt'\n",
    "exp, fluxlim = np.loadtxt(lim,skiprows = 1, unpack = True)\n",
    "exp = np.power(10,exp) #exposure time in log units; convert\n"
   ]
  },
  {
   "cell_type": "code",
   "execution_count": 14,
   "metadata": {},
   "outputs": [],
   "source": [
    "# Interpolate the flux values:\n",
    "func1 = InterpolatedUnivariateSpline(exp,fluxlim) \n",
    "xnew = np.linspace(0,10**8, num = 10**7, endpoint = True)"
   ]
  },
  {
   "cell_type": "code",
   "execution_count": 16,
   "metadata": {},
   "outputs": [
    {
     "data": {
      "text/plain": [
       "array(['grb041219a', 'grb041219b', 'grb041223', 'grb050117', 'grb050124',\n",
       "       'grb050126', 'grb050128', 'grb050209', 'grb050215b', 'grb050219a',\n",
       "       'grb050219b', 'grb050223', 'grb050306', 'grb050315', 'grb050318',\n",
       "       'grb050319', 'grb050326', 'grb050401', 'grb050406', 'grb050408',\n",
       "       'grb050410', 'grb050412', 'grb050416a', 'grb050416b', 'grb050421',\n",
       "       'grb050422', 'grb050502a', 'grb050502b', 'grb050504', 'grb050505',\n",
       "       'grb050509a', 'grb050509b', 'grb050509c', 'grb050520', 'grb050522',\n",
       "       'grb050525a', 'grb050528', 'grb050603', 'grb050607', 'grb050626',\n",
       "       'grb050701', 'grb050709', 'grb050712', 'grb050713a', 'grb050713b',\n",
       "       'grb050714a', 'grb050714b', 'grb050716', 'grb050717', 'grb050721',\n",
       "       'grb050724', 'grb050726', 'grb050730', 'grb050801', 'grb050802',\n",
       "       'grb050803', 'grb050813', 'grb050814', 'grb050815', 'grb050819',\n",
       "       'grb050820a', 'grb050820b', 'grb050822', 'grb050824', 'grb050826',\n",
       "       'grb050827', 'grb050904', 'grb050906', 'grb050908', 'grb050911',\n",
       "       'grb050915a', 'grb050915b', 'grb050916', 'grb050918', 'grb050922a',\n",
       "       'grb050922b', 'grb050922c', 'grb050925', 'grb051001', 'grb051006',\n",
       "       'grb051008', 'grb051012', 'grb051016a', 'grb051016b', 'grb051021a',\n",
       "       'grb051021b', 'grb051022', 'grb051028', 'grb051105a', 'grb051105b',\n",
       "       'grb051109a', 'grb051109b', 'grb051111', 'grb051114', 'grb051117a',\n",
       "       'grb051117b', 'grb051210', 'grb051211a', 'grb051211b',\n",
       "       'grb051221a', 'grb051221b', 'grb051227', 'grb060102', 'grb060105',\n",
       "       'grb060108', 'grb060109', 'grb060110', 'grb060111a', 'grb060111b',\n",
       "       'grb060114', 'grb060115', 'grb060116', 'grb060117', 'grb060121',\n",
       "       'grb060123', 'grb060124', 'grb060130', 'grb060202', 'grb060203',\n",
       "       'grb060204a', 'grb060204b', 'grb060206', 'grb060210', 'grb060211a',\n",
       "       'grb060211b', 'grb060213', 'grb060218', 'grb060219', 'grb060223a',\n",
       "       'grb060223b', 'grb060306', 'grb060312', 'grb060313', 'grb060319',\n",
       "       'grb060322', 'grb060323', 'grb060403', 'grb060413', 'grb060418',\n",
       "       'grb060421', 'grb060427', 'grb060428a', 'grb060428b', 'grb060429',\n",
       "       'grb060501', 'grb060502a', 'grb060502b', 'grb060505', 'grb060507',\n",
       "       'grb060510a', 'grb060510b', 'grb060512', 'grb060515', 'grb060522',\n",
       "       'grb060526', 'grb060602', 'grb060604', 'grb060605', 'grb060607a',\n",
       "       'grb060614', 'grb060707', 'grb060708', 'grb060712', 'grb060714',\n",
       "       'grb060717', 'grb060719', 'grb060728', 'grb060729', 'grb060801',\n",
       "       'grb060804', 'grb060805a', 'grb060805b', 'grb060807', 'grb060813',\n",
       "       'grb060814', 'grb060825', 'grb060901', 'grb060904a', 'grb060904b',\n",
       "       'grb060906', 'grb060908', 'grb060912a', 'grb060912b', 'grb060919',\n",
       "       'grb060923a', 'grb060923b', 'grb060923c', 'grb060926', 'grb060927',\n",
       "       'grb060928', 'grb060929', 'grb061002', 'grb061004', 'grb061006',\n",
       "       'grb061007', 'grb061019', 'grb061021', 'grb061025', 'grb061027',\n",
       "       'grb061028', 'grb061102', 'grb061110a', 'grb061110b', 'grb061121',\n",
       "       'grb061122', 'grb061126', 'grb061201', 'grb061202', 'grb061210',\n",
       "       'grb061217', 'grb061218', 'grb061222a', 'grb061222b', 'grb070103',\n",
       "       'grb070107', 'grb070110', 'grb070124', 'grb070125', 'grb070126',\n",
       "       'grb070129', 'grb070208', 'grb070209', 'grb070219', 'grb070220',\n",
       "       'grb070223', 'grb070224', 'grb070227', 'grb070306', 'grb070309',\n",
       "       'grb070311', 'grb070318', 'grb070328', 'grb070330', 'grb070406',\n",
       "       'grb070411', 'grb070412', 'grb070419a', 'grb070419b', 'grb070420',\n",
       "       'grb070429a', 'grb070429b', 'grb070506', 'grb070508', 'grb070509',\n",
       "       'grb070517', 'grb070518', 'grb070520a', 'grb070520b', 'grb070521',\n",
       "       'grb070529', 'grb070531', 'grb070611', 'grb070612a', 'grb070612b',\n",
       "       'grb070615', 'grb070616', 'grb070621', 'grb070628', 'grb070704',\n",
       "       'grb070707', 'grb070714a', 'grb070714b', 'grb070721a',\n",
       "       'grb070721b', 'grb070724a', 'grb070724b', 'grb070729', 'grb070731',\n",
       "       'grb070802', 'grb070805', 'grb070808', 'grb070809', 'grb070810a',\n",
       "       'grb070810b', 'grb070911', 'grb070913', 'grb070920a', 'grb070920b',\n",
       "       'grb070925', 'grb071003', 'grb071008', 'grb071010a', 'grb071010b',\n",
       "       'grb071011', 'grb071017', 'grb071018', 'grb071020', 'grb071021',\n",
       "       'grb071025', 'grb071028a', 'grb071028b', 'grb071031', 'grb071101',\n",
       "       'grb071104', 'grb071109', 'grb071112b', 'grb071112c', 'grb071117',\n",
       "       'grb071118', 'grb071122', 'grb071227', 'grb080120', 'grb080121',\n",
       "       'grb080123', 'grb080129', 'grb080130', 'grb080205', 'grb080207',\n",
       "       'grb080210', 'grb080212', 'grb080218b', 'grb080229a', 'grb080229b',\n",
       "       'grb080303', 'grb080307', 'grb080310', 'grb080315', 'grb080319a',\n",
       "       'grb080319b', 'grb080319c', 'grb080319d', 'grb080320', 'grb080325',\n",
       "       'grb080328', 'grb080330', 'grb080405', 'grb080408', 'grb080409',\n",
       "       'grb080411', 'grb080413a', 'grb080413b', 'grb080414', 'grb080426',\n",
       "       'grb080430', 'grb080503', 'grb080506', 'grb080507', 'grb080514b',\n",
       "       'grb080515', 'grb080516', 'grb080517', 'grb080520', 'grb080521',\n",
       "       'grb080523', 'grb080524', 'grb080602a', 'grb080602b', 'grb080603a',\n",
       "       'grb080604', 'grb080605', 'grb080607', 'grb080613a', 'grb080613b',\n",
       "       'grb080623', 'grb080625', 'grb080701a', 'grb080701b', 'grb080702a',\n",
       "       'grb080702b', 'grb080703', 'grb080707', 'grb080710', 'grb080714',\n",
       "       'grb080721', 'grb080723a', 'grb080723b', 'grb080727a',\n",
       "       'grb080727b', 'grb080727c', 'grb080802', 'grb080804', 'grb080805',\n",
       "       'grb080810', 'grb080825b', 'grb080828', 'grb080903', 'grb080905a',\n",
       "       'grb080905b', 'grb080906', 'grb080913', 'grb080915a', 'grb080916a',\n",
       "       'grb080916b', 'grb080916c', 'grb080919', 'grb080922', 'grb080928',\n",
       "       'grb081001', 'grb081003a', 'grb081003b', 'grb081007', 'grb081008',\n",
       "       'grb081011', 'grb081012', 'grb081016a', 'grb081016b', 'grb081024a',\n",
       "       'grb081024b', 'grb081025', 'grb081028', 'grb081029', 'grb081101',\n",
       "       'grb081102', 'grb081104', 'grb081105', 'grb081109', 'grb081109b',\n",
       "       'grb081118', 'grb081121', 'grb081126', 'grb081127', 'grb081128',\n",
       "       'grb081203a', 'grb081203b', 'grb081204', 'grb081210', 'grb081211a',\n",
       "       'grb081211b', 'grb081221', 'grb081222', 'grb081226a', 'grb081226b',\n",
       "       'grb081228', 'grb081230', 'grb090102', 'grb090107b', 'grb090111',\n",
       "       'grb090113', 'grb090117a', 'grb090118', 'grb090123', 'grb090126a',\n",
       "       'grb090201', 'grb090205', 'grb090217', 'grb090305a', 'grb090306b',\n",
       "       'grb090307', 'grb090308', 'grb090309', 'grb090313', 'grb090323',\n",
       "       'grb090328a', 'grb090401b', 'grb090404', 'grb090407', 'grb090417b',\n",
       "       'grb090418a', 'grb090419', 'grb090422', 'grb090423', 'grb090424',\n",
       "       'grb090426', 'grb090429a', 'grb090429b', 'grb090510', 'grb090515',\n",
       "       'grb090516', 'grb090518', 'grb090519', 'grb090529a', 'grb090530',\n",
       "       'grb090531a', 'grb090531b', 'grb090607', 'grb090618', 'grb090621a',\n",
       "       'grb090621b', 'grb090625b', 'grb090628', 'grb090702', 'grb090709a',\n",
       "       'grb090715b', 'grb090720a', 'grb090726', 'grb090727', 'grb090728',\n",
       "       'grb090807a', 'grb090809a', 'grb090812', 'grb090813', 'grb090814a',\n",
       "       'grb090814b', 'grb090815c', 'grb090817', 'grb090823', 'grb090827',\n",
       "       'grb090831c', 'grb090902b', 'grb090904a', 'grb090904b',\n",
       "       'grb090915', 'grb090916', 'grb090926a', 'grb090927', 'grb090929b',\n",
       "       'grb091003', 'grb091010', 'grb091018', 'grb091020', 'grb091024',\n",
       "       'grb091026', 'grb091029', 'grb091109', 'grb091109b', 'grb091117',\n",
       "       'grb091127', 'grb091130b', 'grb091208b', 'grb091221', 'grb100103a',\n",
       "       'grb100111a', 'grb100115a', 'grb100117a', 'grb100205a',\n",
       "       'grb100213b', 'grb100219a', 'grb100302a', 'grb100305a',\n",
       "       'grb100316a', 'grb100316b', 'grb100316c', 'grb100316d',\n",
       "       'grb100331a', 'grb100331b', 'grb100413a', 'grb100414a',\n",
       "       'grb100418a', 'grb100420a', 'grb100425a', 'grb100504a',\n",
       "       'grb100508a', 'grb100513a', 'grb100514a', 'grb100522a',\n",
       "       'grb100526a', 'grb100526b', 'grb100606a', 'grb100614a',\n",
       "       'grb100615a', 'grb100619a', 'grb100621a', 'grb100628a',\n",
       "       'grb100704a', 'grb100724a', 'grb100725a', 'grb100725b',\n",
       "       'grb100727a', 'grb100728a', 'grb100728b', 'grb100802a',\n",
       "       'grb100805a', 'grb100814a', 'grb100816a', 'grb100823a',\n",
       "       'grb100901a', 'grb100902a', 'grb100906a', 'grb101011a',\n",
       "       'grb101017a', 'grb101023a', 'grb101024a', 'grb101114a',\n",
       "       'grb101130', 'grb101204a', 'grb101213a', 'grb101219b',\n",
       "       'grb101225a', 'grb110102a', 'grb110106a', 'grb110106b',\n",
       "       'grb110107a', 'grb110112a', 'grb110119a', 'grb110128a',\n",
       "       'grb110201a', 'grb110205a', 'grb110206a', 'grb110207a',\n",
       "       'grb110208a', 'grb110210a', 'grb110213a', 'grb110213b',\n",
       "       'grb110223a', 'grb110223b', 'grb110312a', 'grb110315a',\n",
       "       'grb110319a', 'grb110319b', 'grb110328a', 'grb110402a',\n",
       "       'grb110407a', 'grb110411a', 'grb110412a', 'grb110414a',\n",
       "       'grb110420a', 'grb110420b', 'grb110422a', 'grb110426a',\n",
       "       'grb110428a', 'grb110503a', 'grb110519a', 'grb110530a',\n",
       "       'grb110604a', 'grb110610a', 'grb110625a', 'grb110708a',\n",
       "       'grb110709a', 'grb110709b', 'grb110715a', 'grb110719a',\n",
       "       'grb110721a', 'grb110726a', 'grb110731a', 'grb110801a',\n",
       "       'grb110802', 'grb110808a', 'grb110818a', 'grb110820a',\n",
       "       'grb110825a', 'grb110915a', 'grb110915b', 'grb110918a',\n",
       "       'grb110921a', 'grb111005a', 'grb111008a', 'grb111016a',\n",
       "       'grb111020a', 'grb111022a', 'grb111022b', 'grb111103a',\n",
       "       'grb111103b', 'grb111107a', 'grb111109a', 'grb111117a',\n",
       "       'grb111121a', 'grb111129a', 'grb111205a', 'grb111208a',\n",
       "       'grb111209a', 'grb111211a', 'grb111212a', 'grb111215a',\n",
       "       'grb111222a', 'grb111225a', 'grb111228a', 'grb111229a',\n",
       "       'grb120102a', 'grb120106a', 'grb120116a', 'grb120118b',\n",
       "       'grb120119a', 'grb120211a', 'grb120212a', 'grb120213a',\n",
       "       'grb120215a', 'grb120219a', 'grb120224a', 'grb120302a',\n",
       "       'grb120308a', 'grb120311a', 'grb120320a', 'grb120326a',\n",
       "       'grb120327a', 'grb120328a', 'grb120404a', 'grb120422a',\n",
       "       'grb120514a', 'grb120521b', 'grb120521c', 'grb120612a',\n",
       "       'grb120624b', 'grb120703a', 'grb120709a', 'grb120711a',\n",
       "       'grb120712a', 'grb120714b', 'grb120729a', 'grb120803a',\n",
       "       'grb120804a', 'grb120805a', 'grb120807a', 'grb120811a',\n",
       "       'grb120907a', 'grb120909a', 'grb120919a', 'grb120922a',\n",
       "       'grb120923a', 'grb121011a', 'grb121024a', 'grb121025a',\n",
       "       'grb121027a', 'grb121108a', 'grb121128a', 'grb121202a',\n",
       "       'grb121209a', 'grb121211a', 'grb121212a', 'grb121217a',\n",
       "       'grb130122a', 'grb130131a', 'grb130206a', 'grb130211a',\n",
       "       'grb130216a', 'grb130216b', 'grb130305a', 'grb130306a',\n",
       "       'grb130310a', 'grb130315a', 'grb130327a', 'grb130327b',\n",
       "       'grb130408a', 'grb130418a', 'grb130420a', 'grb130427a',\n",
       "       'grb130427b', 'grb130502b', 'grb130504c', 'grb130505a',\n",
       "       'grb130508a', 'grb130514a', 'grb130514b', 'grb130518a',\n",
       "       'grb130528a', 'grb130529a', 'grb130603a', 'grb130603b',\n",
       "       'grb130606a', 'grb130606b', 'grb130609b', 'grb130610a',\n",
       "       'grb130615a', 'grb130623a', 'grb130625a', 'grb130626a',\n",
       "       'grb130627b', 'grb130701a', 'grb130722a', 'grb130725b'],\n",
       "      dtype='<U10')"
      ]
     },
     "execution_count": 16,
     "metadata": {},
     "output_type": "execute_result"
    }
   ],
   "source": [
    "field_list"
   ]
  },
  {
   "cell_type": "code",
   "execution_count": 40,
   "metadata": {},
   "outputs": [
    {
     "name": "stdout",
     "output_type": "stream",
     "text": [
      "grb060202\n"
     ]
    }
   ],
   "source": [
    "# Read in a particular exposure map\n",
    "num = 117\n",
    "here = np.where(field == field_list[num])\n",
    "# Extract source positions in this field:\n",
    "data_x = x[here]\n",
    "data_y = y[here]\n",
    "\n",
    "print(field_list[num])"
   ]
  },
  {
   "cell_type": "code",
   "execution_count": 41,
   "metadata": {},
   "outputs": [],
   "source": [
    "# Read in exposure map with astropy\n",
    "expmap = path + field_list[num] +'/expo.fits'\n",
    "hdu_list = fits.open(expmap)\n",
    "image_data = hdu_list[0].data\n",
    "hdu_list.close()\n",
    "exp_map_1d =  image_data.ravel() #Conver exposure map to 1D array for later\n",
    "\n",
    "# Restrict to fields with more than one AGN (necessary for correlation calculation):\n",
    "\n",
    "# Save reference pixel value for later\n",
    "ref_flux =  image_data[500,500]\n",
    "\n",
    "# Use the interpolated function to extract flux limit based off reference flux\n",
    "flux_lim = func1(ref_flux)\n",
    "\n",
    "# Find the flux limit for each pixel:\n",
    "fluxlimit = np.zeros(len(exp_map_1d))\n",
    "for j in range(0,len(fluxlimit)):\n",
    "    fluxlimit[j] = func1(exp_map_1d[j])\n",
    "    \n",
    "fluxlimit_1d = np.asarray(fluxlimit) #convert to numpy array\n",
    "fluxlimit_2d = np.reshape(fluxlimit_1d,(-1,len(image_data[0])))\n",
    "    "
   ]
  },
  {
   "cell_type": "code",
   "execution_count": 42,
   "metadata": {},
   "outputs": [
    {
     "data": {
      "text/plain": [
       "array([7.67331525e-12, 7.67331525e-12, 7.67331525e-12, ...,\n",
       "       7.67331525e-12, 7.67331525e-12, 7.67331525e-12])"
      ]
     },
     "execution_count": 42,
     "metadata": {},
     "output_type": "execute_result"
    }
   ],
   "source": [
    "fluxlimit_1d"
   ]
  },
  {
   "cell_type": "code",
   "execution_count": 49,
   "metadata": {},
   "outputs": [
    {
     "data": {
      "text/plain": [
       "array([        nan,         nan,  3.        ,  0.30948122, -0.22190202,\n",
       "       -0.35947302, -0.34673367])"
      ]
     },
     "execution_count": 49,
     "metadata": {},
     "output_type": "execute_result"
    }
   ],
   "source": [
    "bins = np.linspace(0,1000,8)\n",
    "two_point_angular(data_x,data_y, bins, method = 'landy-szalay')"
   ]
  },
  {
   "cell_type": "code",
   "execution_count": 48,
   "metadata": {},
   "outputs": [
    {
     "data": {
      "text/plain": [
       "array([   0.        ,  157.14285714,  314.28571429,  471.42857143,\n",
       "        628.57142857,  785.71428571,  942.85714286, 1100.        ])"
      ]
     },
     "execution_count": 48,
     "metadata": {},
     "output_type": "execute_result"
    }
   ],
   "source": [
    "bins"
   ]
  },
  {
   "cell_type": "code",
   "execution_count": null,
   "metadata": {},
   "outputs": [],
   "source": []
  }
 ],
 "metadata": {
  "kernelspec": {
   "display_name": "Python 3",
   "language": "python",
   "name": "python3"
  },
  "language_info": {
   "codemirror_mode": {
    "name": "ipython",
    "version": 3
   },
   "file_extension": ".py",
   "mimetype": "text/x-python",
   "name": "python",
   "nbconvert_exporter": "python",
   "pygments_lexer": "ipython3",
   "version": "3.7.6"
  }
 },
 "nbformat": 4,
 "nbformat_minor": 4
}
